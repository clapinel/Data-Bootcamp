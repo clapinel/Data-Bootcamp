{
 "cells": [
  {
   "cell_type": "code",
   "execution_count": 2,
   "metadata": {},
   "outputs": [],
   "source": [
    "import pandas as pd            \n",
    "import matplotlib.pyplot as plt  \n",
    "import numpy as np #numerical operations and caluclations\n",
    "\n",
    "import statsmodels.formula.api as smf\n",
    "\n",
    "#Logistic Regression\n",
    "from sklearn import preprocessing\n",
    "import matplotlib.pyplot as plt \n",
    "%matplotlib inline\n",
    "plt.rc(\"font\", size=14)\n",
    "from sklearn.linear_model import LogisticRegression\n",
    "#from sklearn.cross_validation import train_test_split\n",
    "from sklearn.model_selection import train_test_split\n",
    "\n",
    "import seaborn as sns\n",
    "ax,figsize=(16,10)\n",
    "sns.set(style=\"white\")\n",
    "sns.set(style=\"whitegrid\", color_codes=True)"
   ]
  },
  {
   "cell_type": "code",
   "execution_count": 6,
   "metadata": {},
   "outputs": [],
   "source": [
    "year18=pd.read_excel(\"https://www.foreignlaborcert.doleta.gov/pdf/PerformanceData/2018/PERM_Disclosure_Data_FY2018_Q4_EOY.xlsx\")"
   ]
  },
  {
   "cell_type": "code",
   "execution_count": 7,
   "metadata": {},
   "outputs": [],
   "source": [
    "year17=pd.read_excel(\"https://www.foreignlaborcert.doleta.gov/pdf/PerformanceData/2017/PERM_Disclosure_Data_FY17.xlsx\")"
   ]
  },
  {
   "cell_type": "code",
   "execution_count": 8,
   "metadata": {},
   "outputs": [],
   "source": [
    "year16=pd.read_excel(\"https://www.foreignlaborcert.doleta.gov/docs/Performance_Data/Disclosure/FY15-FY16/PERM_Disclosure_Data_FY16.xlsx\")"
   ]
  },
  {
   "cell_type": "markdown",
   "metadata": {},
   "source": [
    "** Cleaning Data **\n",
    "* h1b18 = all 2018 h-1b, h-1b1, and e-3 applicants\n",
    "* clean18 = applicants who finished their applications"
   ]
  },
  {
   "cell_type": "markdown",
   "metadata": {},
   "source": [
    "## Objective 1\n",
    "** Look specifically at the H-1B visa data and who was applying and who was accepted **"
   ]
  },
  {
   "cell_type": "code",
   "execution_count": 9,
   "metadata": {},
   "outputs": [],
   "source": [
    "h1b_array=['H-1B','H-1B1','E-3']\n",
    "#add binary response variable to h1b_array data \n",
    "#Certified - 1\n",
    "#Denied - 0 \n",
    "year18['Response']=np.where(year18['CASE_STATUS']!='Denied', int('1'), int('0'))\n",
    "\n",
    "h1b18=year18.loc[year18['CLASS_OF_ADMISSION'].isin(h1b_array)]\n",
    "clean18= h1b18.loc[h1b18[\"CASE_STATUS\"]!=\"Withdrawn\"]\n",
    "\n",
    "country18 = clean18[\"COUNTRY_OF_CITIZENSHIP\"]\n",
    "state18 = clean18[\"EMPLOYER_STATE\"]\n",
    "industry18 = clean18[\"NAICS_US_TITLE\"]\n",
    "education18 = clean18[\"FOREIGN_WORKER_INFO_EDUCATION\"]"
   ]
  },
  {
   "cell_type": "code",
   "execution_count": 233,
   "metadata": {},
   "outputs": [
    {
     "data": {
      "text/plain": [
       "(77186, 126)"
      ]
     },
     "execution_count": 233,
     "metadata": {},
     "output_type": "execute_result"
    }
   ],
   "source": [
    "clean18.shape"
   ]
  },
  {
   "cell_type": "markdown",
   "metadata": {},
   "source": [
    "** 2018 ** "
   ]
  },
  {
   "cell_type": "markdown",
   "metadata": {},
   "source": [
    "** Finding out % Accepted and % Denied **"
   ]
  },
  {
   "cell_type": "code",
   "execution_count": 26,
   "metadata": {
    "scrolled": true
   },
   "outputs": [
    {
     "data": {
      "text/plain": [
       "<matplotlib.text.Text at 0x13e377390>"
      ]
     },
     "execution_count": 26,
     "metadata": {},
     "output_type": "execute_result"
    },
    {
     "data": {
      "image/png": "[encoded data removed]",
      "text/plain": [
       "<matplotlib.figure.Figure at 0x12e0992b0>"
      ]
     },
     "metadata": {},
     "output_type": "display_data"
    }
   ],
   "source": [
    "ax = (h1b18['Response'].value_counts()*100.0 /len(h1b18)).plot.pie(autopct='%.1f%%', labels = ['Certified','Denied'],figsize =(5,5), fontsize = 12 )                                                                           \n",
    "ax.set_title('% of Visa Applicants', fontsize = 12)"
   ]
  },
  {
   "cell_type": "markdown",
   "metadata": {},
   "source": [
    "** Looks at the most and least popular options for applicant country of citizenship (country18), state they're working in in the US (state18), and industry they work in (industry18) and the most popular levels of education (education18) **"
   ]
  },
  {
   "cell_type": "code",
   "execution_count": 61,
   "metadata": {},
   "outputs": [
    {
     "name": "stdout",
     "output_type": "stream",
     "text": [
      "INDIA          51674\n",
      "CHINA           9553\n",
      "CANADA          2016\n",
      "SOUTH KOREA     1223\n",
      "PHILIPPINES      751\n",
      "Name: COUNTRY_OF_CITIZENSHIP, dtype: int64\n"
     ]
    },
    {
     "data": {
      "image/png": "[encoded data removed]",
      "text/plain": [
       "<matplotlib.figure.Figure at 0x12da61940>"
      ]
     },
     "metadata": {},
     "output_type": "display_data"
    }
   ],
   "source": [
    "countryhead18 = country18.value_counts().head()\n",
    "countryhead18.plot.bar()\n",
    "print(countryhead18)"
   ]
  },
  {
   "cell_type": "code",
   "execution_count": 63,
   "metadata": {},
   "outputs": [
    {
     "name": "stdout",
     "output_type": "stream",
     "text": [
      "ANGOLA                      2\n",
      "TOGO                        2\n",
      "COTE d'IVOIRE               2\n",
      "MALI                        1\n",
      "MALDIVES                    1\n",
      "LUXEMBOURG                  1\n",
      "UNITED ARAB EMIRATES        1\n",
      "MONTSERRAT                  1\n",
      "CUBA                        1\n",
      "BOTSWANA                    1\n",
      "MOZAMBIQUE                  1\n",
      "MALAWI                      1\n",
      "MAURITANIA                  1\n",
      "TURKS AND CAICOS ISLANDS    1\n",
      "GABON                       1\n",
      "LIECHTENSTEIN               1\n",
      "REPUBLIC OF CONGO           1\n",
      "MONACO                      1\n",
      "FIJI                        1\n",
      "SOMALIA                     1\n",
      "Name: COUNTRY_OF_CITIZENSHIP, dtype: int64\n"
     ]
    },
    {
     "data": {
      "image/png": "[encoded data removed]",
      "text/plain": [
       "<matplotlib.figure.Figure at 0x13264e2e8>"
      ]
     },
     "metadata": {},
     "output_type": "display_data"
    }
   ],
   "source": [
    "countrytail18 = country18.value_counts().tail(20)\n",
    "countrytail18.plot.bar()\n",
    "print(countrytail18)"
   ]
  },
  {
   "cell_type": "code",
   "execution_count": 113,
   "metadata": {},
   "outputs": [
    {
     "name": "stdout",
     "output_type": "stream",
     "text": [
      "CA    21186\n",
      "NY     6920\n",
      "NJ     6177\n",
      "TX     5898\n",
      "WA     5382\n",
      "Name: EMPLOYER_STATE, dtype: int64\n"
     ]
    },
    {
     "data": {
      "image/png": "[encoded data removed]",
      "text/plain": [
       "<Figure size 432x288 with 1 Axes>"
      ]
     },
     "metadata": {},
     "output_type": "display_data"
    }
   ],
   "source": [
    "statehead18 = state18.value_counts().head()\n",
    "statehead18.plot.bar()\n",
    "print(statehead18)"
   ]
  },
  {
   "cell_type": "code",
   "execution_count": 110,
   "metadata": {},
   "outputs": [
    {
     "name": "stdout",
     "output_type": "stream",
     "text": [
      "MP    17\n",
      "PR    16\n",
      "AK    13\n",
      "WY    12\n",
      "VI     4\n",
      "Name: EMPLOYER_STATE, dtype: int64\n"
     ]
    },
    {
     "data": {
      "image/png": "[encoded data removed]",
      "text/plain": [
       "<Figure size 432x288 with 1 Axes>"
      ]
     },
     "metadata": {},
     "output_type": "display_data"
    }
   ],
   "source": [
    "statetail18 = state18.value_counts().tail()\n",
    "statetail18.plot.bar()\n",
    "print(statetail18)"
   ]
  },
  {
   "cell_type": "code",
   "execution_count": 114,
   "metadata": {},
   "outputs": [
    {
     "name": "stdout",
     "output_type": "stream",
     "text": [
      "Custom Computer Programming Services                17914\n",
      "Computer Systems Design Services                     5059\n",
      "Electronic Shopping                                  3429\n",
      "Software Publishers                                  3075\n",
      "Colleges, Universities, and Professional Schools     3040\n",
      "Name: NAICS_US_TITLE, dtype: int64\n"
     ]
    },
    {
     "data": {
      "image/png": "[encoded data removed]",
      "text/plain": [
       "<Figure size 432x288 with 1 Axes>"
      ]
     },
     "metadata": {},
     "output_type": "display_data"
    }
   ],
   "source": [
    "industryhead18 = industry18.value_counts().head()\n",
    "industryhead18.plot.bar()\n",
    "print(industryhead18)"
   ]
  },
  {
   "cell_type": "code",
   "execution_count": 115,
   "metadata": {},
   "outputs": [
    {
     "name": "stdout",
     "output_type": "stream",
     "text": [
      "Support Activities for Printing                         1\n",
      "Carpet and Rug Mills                                    1\n",
      "Manufactured Home (Mobile Home) Manufacturing           1\n",
      "Cutlery and Flatware (except Precious) Manufacturing    1\n",
      "Beet Sugar Manufacturing                                1\n",
      "Name: NAICS_US_TITLE, dtype: int64\n"
     ]
    },
    {
     "data": {
      "image/png": "[encoded data removed]",
      "text/plain": [
       "<Figure size 432x288 with 1 Axes>"
      ]
     },
     "metadata": {},
     "output_type": "display_data"
    }
   ],
   "source": [
    "industrytail18 = industry18.value_counts().tail()\n",
    "industrytail18.plot.bar()\n",
    "print(industrytail18)"
   ]
  },
  {
   "cell_type": "code",
   "execution_count": 117,
   "metadata": {},
   "outputs": [
    {
     "name": "stdout",
     "output_type": "stream",
     "text": [
      "Master's      40280\n",
      "Bachelor's    29066\n",
      "Doctorate      4082\n",
      "Other          2941\n",
      "None            548\n",
      "Name: FOREIGN_WORKER_INFO_EDUCATION, dtype: int64\n"
     ]
    },
    {
     "data": {
      "image/png": "[encoded data removed]",
      "text/plain": [
       "<Figure size 432x288 with 1 Axes>"
      ]
     },
     "metadata": {},
     "output_type": "display_data"
    }
   ],
   "source": [
    "educationhead18 = education18.value_counts().head()\n",
    "educationhead18.plot.bar()\n",
    "print(educationhead18)"
   ]
  },
  {
   "cell_type": "markdown",
   "metadata": {},
   "source": [
    "## Objective 2\n",
    "** A quick look at the past 3 years of H-1B visa applications to view patterns **"
   ]
  },
  {
   "cell_type": "markdown",
   "metadata": {},
   "source": [
    "** Looks at the most and least popular options for applicant country of citizenship (country18), state they're working in in the US (state18), and industry they work in (industry18) and the most popular levels of education (education18) **"
   ]
  },
  {
   "cell_type": "markdown",
   "metadata": {},
   "source": [
    "** 2017 ** \n"
   ]
  },
  {
   "cell_type": "code",
   "execution_count": 13,
   "metadata": {},
   "outputs": [],
   "source": [
    "h1b_array=['H-1B','H-1B1','E-3']\n",
    "year17['Response']=np.where(year17['CASE_STATUS']!='Denied', int('1'), int('0'))\n",
    "h1b17=year17.loc[year17['CLASS_OF_ADMISSION'].isin(h1b_array)]\n",
    "clean17= h1b17.loc[h1b17[\"CASE_STATUS\"]!=\"Withdrawn\"]\n",
    "country17 = clean17[\"COUNTRY_OF_CITIZENSHIP\"]\n",
    "state17 = clean17[\"EMPLOYER_STATE\"]\n",
    "industry17 = clean17[\"NAICS_US_TITLE\"]\n",
    "education17 = clean17[\"FOREIGN_WORKER_INFO_EDUCATION\"]"
   ]
  },
  {
   "cell_type": "code",
   "execution_count": 14,
   "metadata": {},
   "outputs": [
    {
     "data": {
      "text/plain": [
       "Text(0.5,1,'% of Visa Applicants')"
      ]
     },
     "execution_count": 14,
     "metadata": {},
     "output_type": "execute_result"
    },
    {
     "data": {
      "image/png": "[encoded data removed]",
      "text/plain": [
       "<Figure size 360x360 with 1 Axes>"
      ]
     },
     "metadata": {},
     "output_type": "display_data"
    }
   ],
   "source": [
    "ax = (h1b17['Response'].value_counts()*100.0 /len(h1b17)).plot.pie(autopct='%.1f%%', labels = ['Certified','Denied'],figsize =(5,5), fontsize = 12 )                                                                           \n",
    "ax.set_title('% of Visa Applicants', fontsize = 12)"
   ]
  },
  {
   "cell_type": "code",
   "execution_count": 146,
   "metadata": {},
   "outputs": [
    {
     "name": "stdout",
     "output_type": "stream",
     "text": [
      "INDIA          44741\n",
      "CHINA           6113\n",
      "CANADA          1669\n",
      "SOUTH KOREA     1159\n",
      "PHILIPPINES      823\n",
      "Name: COUNTRY_OF_CITIZENSHIP, dtype: int64\n"
     ]
    },
    {
     "data": {
      "image/png": "[encoded data removed]",
      "text/plain": [
       "<matplotlib.figure.Figure at 0x134664160>"
      ]
     },
     "metadata": {},
     "output_type": "display_data"
    }
   ],
   "source": [
    "countryhead17 = country17.value_counts().head()\n",
    "countryhead17.plot.bar()\n",
    "print(countryhead17)"
   ]
  },
  {
   "cell_type": "code",
   "execution_count": 98,
   "metadata": {},
   "outputs": [
    {
     "name": "stdout",
     "output_type": "stream",
     "text": [
      "LIBERIA       1\n",
      "ANDORRA       1\n",
      "NAMIBIA       1\n",
      "ST VINCENT    1\n",
      "ANGOLA        1\n",
      "Name: COUNTRY_OF_CITIZENSHIP, dtype: int64\n"
     ]
    },
    {
     "data": {
      "image/png": "[encoded data removed]",
      "text/plain": [
       "<Figure size 432x288 with 1 Axes>"
      ]
     },
     "metadata": {},
     "output_type": "display_data"
    }
   ],
   "source": [
    "countrytail17 = country17.value_counts().tail()\n",
    "countrytail17.plot.bar()\n",
    "print(countrytail17)"
   ]
  },
  {
   "cell_type": "code",
   "execution_count": 119,
   "metadata": {},
   "outputs": [
    {
     "name": "stdout",
     "output_type": "stream",
     "text": [
      "CA    17031\n",
      "TX     8951\n",
      "NJ     5184\n",
      "NY     4797\n",
      "WA     3102\n",
      "Name: EMPLOYER_STATE, dtype: int64\n"
     ]
    },
    {
     "data": {
      "image/png": "[encoded data removed]",
      "text/plain": [
       "<Figure size 432x288 with 1 Axes>"
      ]
     },
     "metadata": {},
     "output_type": "display_data"
    }
   ],
   "source": [
    "statehead17 = state17.value_counts().head()\n",
    "statehead17.plot.bar()\n",
    "print(statehead17)"
   ]
  },
  {
   "cell_type": "code",
   "execution_count": 120,
   "metadata": {},
   "outputs": [
    {
     "name": "stdout",
     "output_type": "stream",
     "text": [
      "WY    19\n",
      "VI    18\n",
      "MT    15\n",
      "AK    13\n",
      "BC     3\n",
      "Name: EMPLOYER_STATE, dtype: int64\n"
     ]
    },
    {
     "data": {
      "image/png": "[encoded data removed]",
      "text/plain": [
       "<Figure size 432x288 with 1 Axes>"
      ]
     },
     "metadata": {},
     "output_type": "display_data"
    }
   ],
   "source": [
    "statetail17 = state17.value_counts().tail()\n",
    "statetail17.plot.bar()\n",
    "print(statetail17)"
   ]
  },
  {
   "cell_type": "code",
   "execution_count": 121,
   "metadata": {},
   "outputs": [
    {
     "name": "stdout",
     "output_type": "stream",
     "text": [
      "Custom Computer Programming Services                15209\n",
      "Computer Systems Design Services                     8006\n",
      "Software Publishers                                  2547\n",
      "Colleges, Universities, and Professional Schools     2512\n",
      "Other Computer Related Services                      2297\n",
      "Name: NAICS_US_TITLE, dtype: int64\n"
     ]
    },
    {
     "data": {
      "image/png": "[encoded data removed]",
      "text/plain": [
       "<Figure size 432x288 with 1 Axes>"
      ]
     },
     "metadata": {},
     "output_type": "display_data"
    }
   ],
   "source": [
    "industryhead17 = industry17.value_counts().head()\n",
    "industryhead17.plot.bar()\n",
    "print(industryhead17)"
   ]
  },
  {
   "cell_type": "code",
   "execution_count": 122,
   "metadata": {},
   "outputs": [
    {
     "name": "stdout",
     "output_type": "stream",
     "text": [
      "Paging                                                                           1\n",
      "Other Foundation, Structure, and Building Exterior Contractors                   1\n",
      "Noncurrent-Carrying Wiring Device Manufacturing                                  1\n",
      "Courts                                                                           1\n",
      "Nonferrous Metal (except Copper and Aluminum) Rolling, Drawing, and Extruding    1\n",
      "Name: NAICS_US_TITLE, dtype: int64\n"
     ]
    },
    {
     "data": {
      "image/png": "[encoded data removed]",
      "text/plain": [
       "<Figure size 432x288 with 1 Axes>"
      ]
     },
     "metadata": {},
     "output_type": "display_data"
    }
   ],
   "source": [
    "industrytail17 = industry17.value_counts().tail()\n",
    "industrytail17.plot.bar()\n",
    "print(industrytail17)"
   ]
  },
  {
   "cell_type": "code",
   "execution_count": 125,
   "metadata": {},
   "outputs": [
    {
     "name": "stdout",
     "output_type": "stream",
     "text": [
      "Master's      32177\n",
      "Bachelor's    26211\n",
      "Doctorate      3336\n",
      "Other          2860\n",
      "None            475\n",
      "Name: FOREIGN_WORKER_INFO_EDUCATION, dtype: int64\n"
     ]
    },
    {
     "data": {
      "image/png": "[encoded data removed]",
      "text/plain": [
       "<Figure size 432x288 with 1 Axes>"
      ]
     },
     "metadata": {},
     "output_type": "display_data"
    }
   ],
   "source": [
    "educationhead17 = education17.value_counts().head()\n",
    "educationhead17.plot.bar()\n",
    "print(educationhead17)"
   ]
  },
  {
   "cell_type": "code",
   "execution_count": 17,
   "metadata": {},
   "outputs": [],
   "source": [
    "h1b_array=['H-1B','H-1B1','E-3']\n",
    "year16['Response']=np.where(year16['CASE_STATUS']!='Denied', int('1'), int('0'))\n",
    "h1b16=year16.loc[year16['CLASS_OF_ADMISSION'].isin(h1b_array)]\n",
    "clean16= h1b16.loc[h1b16[\"CASE_STATUS\"]!=\"Withdrawn\"]\n",
    "country16 = clean16[\"COUNTRY_OF_CITIZENSHIP\"]\n",
    "state16 = clean16[\"EMPLOYER_STATE\"]\n",
    "industry16 = clean16[\"NAICS_US_TITLE\"]\n",
    "education16 = clean16[\"FOREIGN_WORKER_INFO_EDUCATION\"]"
   ]
  },
  {
   "cell_type": "code",
   "execution_count": 18,
   "metadata": {},
   "outputs": [
    {
     "data": {
      "text/plain": [
       "Text(0.5,1,'% of Visa Applicants')"
      ]
     },
     "execution_count": 18,
     "metadata": {},
     "output_type": "execute_result"
    },
    {
     "data": {
      "image/png": "[encoded data removed]",
      "text/plain": [
       "<Figure size 360x360 with 1 Axes>"
      ]
     },
     "metadata": {},
     "output_type": "display_data"
    }
   ],
   "source": [
    "ax = (h1b16['Response'].value_counts()*100.0 /len(h1b16)).plot.pie(autopct='%.1f%%', labels = ['Certified','Denied'],figsize =(5,5), fontsize = 12 )                                                                           \n",
    "ax.set_title('% of Visa Applicants', fontsize = 12)"
   ]
  },
  {
   "cell_type": "code",
   "execution_count": 101,
   "metadata": {},
   "outputs": [
    {
     "name": "stdout",
     "output_type": "stream",
     "text": [
      "INDIA          59218\n",
      "CHINA           7330\n",
      "CANADA          2464\n",
      "SOUTH KOREA     1776\n",
      "PHILIPPINES     1144\n",
      "Name: COUNTRY_OF_CITIZENSHIP, dtype: int64\n"
     ]
    },
    {
     "data": {
      "image/png": "[encoded data removed]",
      "text/plain": [
       "<Figure size 432x288 with 1 Axes>"
      ]
     },
     "metadata": {},
     "output_type": "display_data"
    }
   ],
   "source": [
    "countryhead16 = country16.value_counts().head()\n",
    "countryhead16.plot.bar()\n",
    "print(countryhead16)"
   ]
  },
  {
   "cell_type": "code",
   "execution_count": 102,
   "metadata": {},
   "outputs": [
    {
     "name": "stdout",
     "output_type": "stream",
     "text": [
      "MAURITANIA    1\n",
      "GUINEA        1\n",
      "LAOS          1\n",
      "LESOTHO       1\n",
      "MALDIVES      1\n",
      "Name: COUNTRY_OF_CITIZENSHIP, dtype: int64\n"
     ]
    },
    {
     "data": {
      "image/png": "[encoded data removed]",
      "text/plain": [
       "<Figure size 432x288 with 1 Axes>"
      ]
     },
     "metadata": {},
     "output_type": "display_data"
    }
   ],
   "source": [
    "countrytail16 = country16.value_counts().tail()\n",
    "countrytail16.plot.bar()\n",
    "print(countrytail16)"
   ]
  },
  {
   "cell_type": "code",
   "execution_count": 127,
   "metadata": {},
   "outputs": [
    {
     "name": "stdout",
     "output_type": "stream",
     "text": [
      "CA    21993\n",
      "TX    11040\n",
      "NJ     8076\n",
      "NY     6307\n",
      "IL     4154\n",
      "Name: EMPLOYER_STATE, dtype: int64\n"
     ]
    },
    {
     "data": {
      "image/png": "[encoded data removed]",
      "text/plain": [
       "<Figure size 432x288 with 1 Axes>"
      ]
     },
     "metadata": {},
     "output_type": "display_data"
    }
   ],
   "source": [
    "statehead16 = state16.value_counts().head()\n",
    "statehead16.plot.bar()\n",
    "print(statehead16)"
   ]
  },
  {
   "cell_type": "code",
   "execution_count": 128,
   "metadata": {},
   "outputs": [
    {
     "name": "stdout",
     "output_type": "stream",
     "text": [
      "AK    21\n",
      "WY    19\n",
      "MP    11\n",
      "VI     5\n",
      "BC     1\n",
      "Name: EMPLOYER_STATE, dtype: int64\n"
     ]
    },
    {
     "data": {
      "image/png": "[encoded data removed]",
      "text/plain": [
       "<Figure size 432x288 with 1 Axes>"
      ]
     },
     "metadata": {},
     "output_type": "display_data"
    }
   ],
   "source": [
    "statetail16 = state16.value_counts().tail()\n",
    "statetail16.plot.bar()\n",
    "print(statetail16)"
   ]
  },
  {
   "cell_type": "code",
   "execution_count": 129,
   "metadata": {},
   "outputs": [
    {
     "name": "stdout",
     "output_type": "stream",
     "text": [
      "Custom Computer Programming Services                22218\n",
      "Computer Systems Design Services                     9147\n",
      "Software Publishers                                  3625\n",
      "Colleges, Universities, and Professional Schools     3400\n",
      "Other Computer Related Services                      2716\n",
      "Name: NAICS_US_TITLE, dtype: int64\n"
     ]
    },
    {
     "data": {
      "image/png": "[encoded data removed]",
      "text/plain": [
       "<Figure size 432x288 with 1 Axes>"
      ]
     },
     "metadata": {},
     "output_type": "display_data"
    }
   ],
   "source": [
    "industryhead16 = industry16.value_counts().head()\n",
    "industryhead16.plot.bar()\n",
    "print(industryhead16)"
   ]
  },
  {
   "cell_type": "code",
   "execution_count": 130,
   "metadata": {},
   "outputs": [
    {
     "name": "stdout",
     "output_type": "stream",
     "text": [
      "Support Activities for Nonmetallic Minerals (except Fuels)    1\n",
      "Sugar and Confectionery Product Manufacturing                 1\n",
      "Mobile Food Services                                          1\n",
      "Dual-Purpose Cattle Ranching and Farming                      1\n",
      "Other Community Housing Services                              1\n",
      "Name: NAICS_US_TITLE, dtype: int64\n"
     ]
    },
    {
     "data": {
      "image/png": "[encoded data removed]",
      "text/plain": [
       "<Figure size 432x288 with 1 Axes>"
      ]
     },
     "metadata": {},
     "output_type": "display_data"
    }
   ],
   "source": [
    "industrytail16 = industry16.value_counts().tail()\n",
    "industrytail16.plot.bar()\n",
    "print(industrytail16)"
   ]
  },
  {
   "cell_type": "code",
   "execution_count": 131,
   "metadata": {},
   "outputs": [
    {
     "name": "stdout",
     "output_type": "stream",
     "text": [
      "Master's      43215\n",
      "Bachelor's    34721\n",
      "Doctorate      4850\n",
      "Other          3967\n",
      "None            601\n",
      "Name: FOREIGN_WORKER_INFO_EDUCATION, dtype: int64\n"
     ]
    },
    {
     "data": {
      "image/png": "[encoded data removed]",
      "text/plain": [
       "<Figure size 432x288 with 1 Axes>"
      ]
     },
     "metadata": {},
     "output_type": "display_data"
    }
   ],
   "source": [
    "educationhead16 = education16.value_counts().head()\n",
    "educationhead16.plot.bar()\n",
    "print(educationhead16)"
   ]
  },
  {
   "cell_type": "markdown",
   "metadata": {},
   "source": [
    "## Objective 3\n",
    "** Test hypothesis of acceptance in relation to country of citizenship, job location, job industry, and education level (regression) **"
   ]
  },
  {
   "cell_type": "code",
   "execution_count": 22,
   "metadata": {},
   "outputs": [
    {
     "ename": "ModuleNotFoundError",
     "evalue": "No module named 'imblearn'",
     "output_type": "error",
     "traceback": [
      "\u001b[1;31m---------------------------------------------------------------------------\u001b[0m",
      "\u001b[1;31mModuleNotFoundError\u001b[0m                       Traceback (most recent call last)",
      "\u001b[1;32m<ipython-input-22-6fb19fcfaeb0>\u001b[0m in \u001b[0;36m<module>\u001b[1;34m()\u001b[0m\n\u001b[0;32m     16\u001b[0m \u001b[1;33m\u001b[0m\u001b[0m\n\u001b[0;32m     17\u001b[0m \u001b[1;31m#SMOTE algorithm\u001b[0m\u001b[1;33m\u001b[0m\u001b[1;33m\u001b[0m\u001b[0m\n\u001b[1;32m---> 18\u001b[1;33m \u001b[1;32mfrom\u001b[0m \u001b[0mimblearn\u001b[0m\u001b[1;33m.\u001b[0m\u001b[0mover_sampling\u001b[0m \u001b[1;32mimport\u001b[0m \u001b[0mSMOTE\u001b[0m\u001b[1;33m\u001b[0m\u001b[0m\n\u001b[0m",
      "\u001b[1;31mModuleNotFoundError\u001b[0m: No module named 'imblearn'"
     ]
    }
   ],
   "source": [
    "import pandas as pd\n",
    "import numpy as np\n",
    "\n",
    "from sklearn import preprocessing\n",
    "import matplotlib.pyplot as plt \n",
    "%matplotlib inline\n",
    "plt.rc(\"font\", size=14)\n",
    "from sklearn.linear_model import LogisticRegression\n",
    "#from sklearn.cross_validation import train_test_split\n",
    "from sklearn.model_selection import train_test_split\n",
    "\n",
    "import seaborn as sns\n",
    "ax,figsize=(16,10)\n",
    "sns.set(style=\"white\")\n",
    "sns.set(style=\"whitegrid\", color_codes=True)\n",
    "\n",
    "#SMOTE algorithm\n",
    "from imblearn.over_sampling import SMOTE"
   ]
  },
  {
   "cell_type": "code",
   "execution_count": 234,
   "metadata": {},
   "outputs": [],
   "source": [
    "reg_clean18=clean18[[\"COUNTRY_OF_CITIZENSHIP\",'EMPLOYER_STATE', 'NAICS_US_TITLE', \"FOREIGN_WORKER_INFO_EDUCATION\",'Response']]"
   ]
  },
  {
   "cell_type": "code",
   "execution_count": 235,
   "metadata": {},
   "outputs": [
    {
     "data": {
      "text/html": [
       "<div>\n",
       "<style>\n",
       "    .dataframe thead tr:only-child th {\n",
       "        text-align: right;\n",
       "    }\n",
       "\n",
       "    .dataframe thead th {\n",
       "        text-align: left;\n",
       "    }\n",
       "\n",
       "    .dataframe tbody tr th {\n",
       "        vertical-align: top;\n",
       "    }\n",
       "</style>\n",
       "<table border=\"1\" class=\"dataframe\">\n",
       "  <thead>\n",
       "    <tr style=\"text-align: right;\">\n",
       "      <th></th>\n",
       "      <th>COUNTRY_OF_CITIZENSHIP</th>\n",
       "      <th>EMPLOYER_STATE</th>\n",
       "      <th>NAICS_US_TITLE</th>\n",
       "      <th>FOREIGN_WORKER_INFO_EDUCATION</th>\n",
       "      <th>Response</th>\n",
       "    </tr>\n",
       "  </thead>\n",
       "  <tbody>\n",
       "    <tr>\n",
       "      <th>12</th>\n",
       "      <td>INDIA</td>\n",
       "      <td>LA</td>\n",
       "      <td>Colleges, Universities, and Professional Schools</td>\n",
       "      <td>Master's</td>\n",
       "      <td>1</td>\n",
       "    </tr>\n",
       "    <tr>\n",
       "      <th>14</th>\n",
       "      <td>INDIA</td>\n",
       "      <td>NY</td>\n",
       "      <td>Administrative Management and General Manageme...</td>\n",
       "      <td>Bachelor's</td>\n",
       "      <td>1</td>\n",
       "    </tr>\n",
       "    <tr>\n",
       "      <th>16</th>\n",
       "      <td>INDIA</td>\n",
       "      <td>CA</td>\n",
       "      <td>Other Computer Related Services</td>\n",
       "      <td>Bachelor's</td>\n",
       "      <td>1</td>\n",
       "    </tr>\n",
       "    <tr>\n",
       "      <th>18</th>\n",
       "      <td>CHINA</td>\n",
       "      <td>IN</td>\n",
       "      <td>Colleges, Universities, and Professional Schools</td>\n",
       "      <td>Doctorate</td>\n",
       "      <td>1</td>\n",
       "    </tr>\n",
       "    <tr>\n",
       "      <th>19</th>\n",
       "      <td>INDIA</td>\n",
       "      <td>CA</td>\n",
       "      <td>Other Computer Related Services</td>\n",
       "      <td>Bachelor's</td>\n",
       "      <td>1</td>\n",
       "    </tr>\n",
       "    <tr>\n",
       "      <th>20</th>\n",
       "      <td>INDIA</td>\n",
       "      <td>CA</td>\n",
       "      <td>Semiconductor and Other Electronic Component M...</td>\n",
       "      <td>Master's</td>\n",
       "      <td>1</td>\n",
       "    </tr>\n",
       "    <tr>\n",
       "      <th>22</th>\n",
       "      <td>CHINA</td>\n",
       "      <td>PA</td>\n",
       "      <td>Pharmaceutical and Medicine Manufacturing</td>\n",
       "      <td>Master's</td>\n",
       "      <td>1</td>\n",
       "    </tr>\n",
       "    <tr>\n",
       "      <th>24</th>\n",
       "      <td>INDIA</td>\n",
       "      <td>WI</td>\n",
       "      <td>Data Processing, Hosting, and Related Services</td>\n",
       "      <td>Master's</td>\n",
       "      <td>1</td>\n",
       "    </tr>\n",
       "    <tr>\n",
       "      <th>26</th>\n",
       "      <td>INDIA</td>\n",
       "      <td>IN</td>\n",
       "      <td>Other Computer Related Services</td>\n",
       "      <td>Bachelor's</td>\n",
       "      <td>1</td>\n",
       "    </tr>\n",
       "    <tr>\n",
       "      <th>30</th>\n",
       "      <td>INDIA</td>\n",
       "      <td>NC</td>\n",
       "      <td>Other Computer Related Services</td>\n",
       "      <td>Master's</td>\n",
       "      <td>1</td>\n",
       "    </tr>\n",
       "    <tr>\n",
       "      <th>31</th>\n",
       "      <td>INDIA</td>\n",
       "      <td>CA</td>\n",
       "      <td>Custom Computer Programming Services</td>\n",
       "      <td>Bachelor's</td>\n",
       "      <td>1</td>\n",
       "    </tr>\n",
       "    <tr>\n",
       "      <th>32</th>\n",
       "      <td>INDIA</td>\n",
       "      <td>TN</td>\n",
       "      <td>Other Accounting Services</td>\n",
       "      <td>Bachelor's</td>\n",
       "      <td>1</td>\n",
       "    </tr>\n",
       "    <tr>\n",
       "      <th>33</th>\n",
       "      <td>INDIA</td>\n",
       "      <td>TN</td>\n",
       "      <td>Other Accounting Services</td>\n",
       "      <td>Bachelor's</td>\n",
       "      <td>1</td>\n",
       "    </tr>\n",
       "    <tr>\n",
       "      <th>36</th>\n",
       "      <td>SOUTH KOREA</td>\n",
       "      <td>CA</td>\n",
       "      <td>Cut and Sew Apparel Manufacturing</td>\n",
       "      <td>Bachelor's</td>\n",
       "      <td>1</td>\n",
       "    </tr>\n",
       "    <tr>\n",
       "      <th>37</th>\n",
       "      <td>MALAYSIA</td>\n",
       "      <td>CA</td>\n",
       "      <td>Computer Systems Design and Related Services</td>\n",
       "      <td>Master's</td>\n",
       "      <td>1</td>\n",
       "    </tr>\n",
       "    <tr>\n",
       "      <th>39</th>\n",
       "      <td>INDIA</td>\n",
       "      <td>NJ</td>\n",
       "      <td>Custom Computer Programming Services</td>\n",
       "      <td>Bachelor's</td>\n",
       "      <td>1</td>\n",
       "    </tr>\n",
       "    <tr>\n",
       "      <th>40</th>\n",
       "      <td>INDIA</td>\n",
       "      <td>NJ</td>\n",
       "      <td>Custom Computer Programming Services</td>\n",
       "      <td>Master's</td>\n",
       "      <td>1</td>\n",
       "    </tr>\n",
       "    <tr>\n",
       "      <th>42</th>\n",
       "      <td>INDIA</td>\n",
       "      <td>MA</td>\n",
       "      <td>Direct Health and Medical Insurance Carriers</td>\n",
       "      <td>Bachelor's</td>\n",
       "      <td>1</td>\n",
       "    </tr>\n",
       "    <tr>\n",
       "      <th>43</th>\n",
       "      <td>INDIA</td>\n",
       "      <td>NJ</td>\n",
       "      <td>Other Management Consulting Services</td>\n",
       "      <td>Other</td>\n",
       "      <td>1</td>\n",
       "    </tr>\n",
       "    <tr>\n",
       "      <th>44</th>\n",
       "      <td>INDIA</td>\n",
       "      <td>CA</td>\n",
       "      <td>Semiconductor and Other Electronic Component M...</td>\n",
       "      <td>Master's</td>\n",
       "      <td>1</td>\n",
       "    </tr>\n",
       "    <tr>\n",
       "      <th>46</th>\n",
       "      <td>UNITED KINGDOM</td>\n",
       "      <td>TX</td>\n",
       "      <td>Custom Computer Programming Services</td>\n",
       "      <td>None</td>\n",
       "      <td>1</td>\n",
       "    </tr>\n",
       "    <tr>\n",
       "      <th>47</th>\n",
       "      <td>AUSTRALIA</td>\n",
       "      <td>FL</td>\n",
       "      <td>Elementary and Secondary Schools</td>\n",
       "      <td>Bachelor's</td>\n",
       "      <td>1</td>\n",
       "    </tr>\n",
       "    <tr>\n",
       "      <th>49</th>\n",
       "      <td>CHINA</td>\n",
       "      <td>IA</td>\n",
       "      <td>Colleges, Universities, and Professional Schools</td>\n",
       "      <td>Doctorate</td>\n",
       "      <td>1</td>\n",
       "    </tr>\n",
       "    <tr>\n",
       "      <th>50</th>\n",
       "      <td>INDIA</td>\n",
       "      <td>NY</td>\n",
       "      <td>All Other Information Services</td>\n",
       "      <td>Master's</td>\n",
       "      <td>1</td>\n",
       "    </tr>\n",
       "    <tr>\n",
       "      <th>51</th>\n",
       "      <td>CHINA</td>\n",
       "      <td>FL</td>\n",
       "      <td>Fiber Optic Cable Manufacturing</td>\n",
       "      <td>Master's</td>\n",
       "      <td>1</td>\n",
       "    </tr>\n",
       "    <tr>\n",
       "      <th>52</th>\n",
       "      <td>INDIA</td>\n",
       "      <td>IL</td>\n",
       "      <td>All Other Financial Investment Activities</td>\n",
       "      <td>Master's</td>\n",
       "      <td>1</td>\n",
       "    </tr>\n",
       "    <tr>\n",
       "      <th>54</th>\n",
       "      <td>INDIA</td>\n",
       "      <td>CA</td>\n",
       "      <td>Custom Computer Programming Services</td>\n",
       "      <td>Bachelor's</td>\n",
       "      <td>1</td>\n",
       "    </tr>\n",
       "    <tr>\n",
       "      <th>55</th>\n",
       "      <td>INDIA</td>\n",
       "      <td>VA</td>\n",
       "      <td>Credit Card Issuing</td>\n",
       "      <td>Bachelor's</td>\n",
       "      <td>1</td>\n",
       "    </tr>\n",
       "    <tr>\n",
       "      <th>56</th>\n",
       "      <td>INDIA</td>\n",
       "      <td>CA</td>\n",
       "      <td>Custom Computer Programming Services</td>\n",
       "      <td>Master's</td>\n",
       "      <td>1</td>\n",
       "    </tr>\n",
       "    <tr>\n",
       "      <th>57</th>\n",
       "      <td>CANADA</td>\n",
       "      <td>CA</td>\n",
       "      <td>Offices of Lawyers</td>\n",
       "      <td>Other</td>\n",
       "      <td>1</td>\n",
       "    </tr>\n",
       "    <tr>\n",
       "      <th>...</th>\n",
       "      <td>...</td>\n",
       "      <td>...</td>\n",
       "      <td>...</td>\n",
       "      <td>...</td>\n",
       "      <td>...</td>\n",
       "    </tr>\n",
       "    <tr>\n",
       "      <th>119698</th>\n",
       "      <td>INDIA</td>\n",
       "      <td>NY</td>\n",
       "      <td>Custom Computer Programming Services</td>\n",
       "      <td>Master's</td>\n",
       "      <td>1</td>\n",
       "    </tr>\n",
       "    <tr>\n",
       "      <th>119699</th>\n",
       "      <td>INDIA</td>\n",
       "      <td>NY</td>\n",
       "      <td>Custom Computer Programming Services</td>\n",
       "      <td>Master's</td>\n",
       "      <td>1</td>\n",
       "    </tr>\n",
       "    <tr>\n",
       "      <th>119700</th>\n",
       "      <td>CHINA</td>\n",
       "      <td>TX</td>\n",
       "      <td>Process, Physical Distribution, and Logistics ...</td>\n",
       "      <td>Master's</td>\n",
       "      <td>1</td>\n",
       "    </tr>\n",
       "    <tr>\n",
       "      <th>119703</th>\n",
       "      <td>CHINA</td>\n",
       "      <td>MI</td>\n",
       "      <td>Custom Computer Programming Services</td>\n",
       "      <td>Master's</td>\n",
       "      <td>1</td>\n",
       "    </tr>\n",
       "    <tr>\n",
       "      <th>119705</th>\n",
       "      <td>INDIA</td>\n",
       "      <td>NJ</td>\n",
       "      <td>Custom Computer Programming Services</td>\n",
       "      <td>Master's</td>\n",
       "      <td>1</td>\n",
       "    </tr>\n",
       "    <tr>\n",
       "      <th>119711</th>\n",
       "      <td>INDIA</td>\n",
       "      <td>GA</td>\n",
       "      <td>Custom Computer Programming Services</td>\n",
       "      <td>Bachelor's</td>\n",
       "      <td>1</td>\n",
       "    </tr>\n",
       "    <tr>\n",
       "      <th>119713</th>\n",
       "      <td>INDIA</td>\n",
       "      <td>SD</td>\n",
       "      <td>Monetary Authorities - Central Bank</td>\n",
       "      <td>Master's</td>\n",
       "      <td>1</td>\n",
       "    </tr>\n",
       "    <tr>\n",
       "      <th>119717</th>\n",
       "      <td>INDIA</td>\n",
       "      <td>VA</td>\n",
       "      <td>Custom Computer Programming Services</td>\n",
       "      <td>Master's</td>\n",
       "      <td>0</td>\n",
       "    </tr>\n",
       "    <tr>\n",
       "      <th>119718</th>\n",
       "      <td>INDIA</td>\n",
       "      <td>VA</td>\n",
       "      <td>Custom Computer Programming Services</td>\n",
       "      <td>Master's</td>\n",
       "      <td>0</td>\n",
       "    </tr>\n",
       "    <tr>\n",
       "      <th>119719</th>\n",
       "      <td>COLOMBIA</td>\n",
       "      <td>CA</td>\n",
       "      <td>Engineering Services</td>\n",
       "      <td>Bachelor's</td>\n",
       "      <td>1</td>\n",
       "    </tr>\n",
       "    <tr>\n",
       "      <th>119722</th>\n",
       "      <td>INDIA</td>\n",
       "      <td>NC</td>\n",
       "      <td>Computer Systems Design and Related Services</td>\n",
       "      <td>Master's</td>\n",
       "      <td>1</td>\n",
       "    </tr>\n",
       "    <tr>\n",
       "      <th>119725</th>\n",
       "      <td>INDIA</td>\n",
       "      <td>MD</td>\n",
       "      <td>Custom Computer Programming Services</td>\n",
       "      <td>Master's</td>\n",
       "      <td>1</td>\n",
       "    </tr>\n",
       "    <tr>\n",
       "      <th>119733</th>\n",
       "      <td>BELIZE</td>\n",
       "      <td>FL</td>\n",
       "      <td>Electric Power Generation, Transmission and Di...</td>\n",
       "      <td>Bachelor's</td>\n",
       "      <td>1</td>\n",
       "    </tr>\n",
       "    <tr>\n",
       "      <th>119734</th>\n",
       "      <td>INDIA</td>\n",
       "      <td>MA</td>\n",
       "      <td>Custom Computer Programming Services</td>\n",
       "      <td>Master's</td>\n",
       "      <td>1</td>\n",
       "    </tr>\n",
       "    <tr>\n",
       "      <th>119735</th>\n",
       "      <td>INDIA</td>\n",
       "      <td>TX</td>\n",
       "      <td>Research and Development in Biotechnology</td>\n",
       "      <td>Bachelor's</td>\n",
       "      <td>1</td>\n",
       "    </tr>\n",
       "    <tr>\n",
       "      <th>119739</th>\n",
       "      <td>INDIA</td>\n",
       "      <td>CA</td>\n",
       "      <td>Financial Transactions Processing, Reserve, an...</td>\n",
       "      <td>Bachelor's</td>\n",
       "      <td>1</td>\n",
       "    </tr>\n",
       "    <tr>\n",
       "      <th>119746</th>\n",
       "      <td>INDIA</td>\n",
       "      <td>MI</td>\n",
       "      <td>Colleges, Universities, and Professional Schools</td>\n",
       "      <td>Doctorate</td>\n",
       "      <td>1</td>\n",
       "    </tr>\n",
       "    <tr>\n",
       "      <th>119747</th>\n",
       "      <td>BRAZIL</td>\n",
       "      <td>FL</td>\n",
       "      <td>Dental Laboratories</td>\n",
       "      <td>High School</td>\n",
       "      <td>1</td>\n",
       "    </tr>\n",
       "    <tr>\n",
       "      <th>119748</th>\n",
       "      <td>COLOMBIA</td>\n",
       "      <td>NC</td>\n",
       "      <td>Elementary and Secondary Schools</td>\n",
       "      <td>Bachelor's</td>\n",
       "      <td>1</td>\n",
       "    </tr>\n",
       "    <tr>\n",
       "      <th>119749</th>\n",
       "      <td>COLOMBIA</td>\n",
       "      <td>NC</td>\n",
       "      <td>Elementary and Secondary Schools</td>\n",
       "      <td>Bachelor's</td>\n",
       "      <td>1</td>\n",
       "    </tr>\n",
       "    <tr>\n",
       "      <th>119750</th>\n",
       "      <td>TURKEY</td>\n",
       "      <td>OH</td>\n",
       "      <td>Elementary and Secondary Schools</td>\n",
       "      <td>Bachelor's</td>\n",
       "      <td>1</td>\n",
       "    </tr>\n",
       "    <tr>\n",
       "      <th>119752</th>\n",
       "      <td>CHINA</td>\n",
       "      <td>CA</td>\n",
       "      <td>Computer Systems Design Services</td>\n",
       "      <td>Master's</td>\n",
       "      <td>1</td>\n",
       "    </tr>\n",
       "    <tr>\n",
       "      <th>119754</th>\n",
       "      <td>INDIA</td>\n",
       "      <td>IL</td>\n",
       "      <td>Other Computer Related Services</td>\n",
       "      <td>Bachelor's</td>\n",
       "      <td>1</td>\n",
       "    </tr>\n",
       "    <tr>\n",
       "      <th>119755</th>\n",
       "      <td>INDIA</td>\n",
       "      <td>NJ</td>\n",
       "      <td>Foundation, Structure, and Building Exterior C...</td>\n",
       "      <td>Master's</td>\n",
       "      <td>1</td>\n",
       "    </tr>\n",
       "    <tr>\n",
       "      <th>119756</th>\n",
       "      <td>INDIA</td>\n",
       "      <td>CA</td>\n",
       "      <td>Software Publishers</td>\n",
       "      <td>Bachelor's</td>\n",
       "      <td>1</td>\n",
       "    </tr>\n",
       "    <tr>\n",
       "      <th>119758</th>\n",
       "      <td>INDIA</td>\n",
       "      <td>CA</td>\n",
       "      <td>Custom Computer Programming Services</td>\n",
       "      <td>Bachelor's</td>\n",
       "      <td>1</td>\n",
       "    </tr>\n",
       "    <tr>\n",
       "      <th>119759</th>\n",
       "      <td>TURKEY</td>\n",
       "      <td>TX</td>\n",
       "      <td>Elementary and Secondary Schools</td>\n",
       "      <td>Bachelor's</td>\n",
       "      <td>1</td>\n",
       "    </tr>\n",
       "    <tr>\n",
       "      <th>119763</th>\n",
       "      <td>SOUTH KOREA</td>\n",
       "      <td>OR</td>\n",
       "      <td>Colleges, Universities, and Professional Schools</td>\n",
       "      <td>Master's</td>\n",
       "      <td>1</td>\n",
       "    </tr>\n",
       "    <tr>\n",
       "      <th>119767</th>\n",
       "      <td>JAPAN</td>\n",
       "      <td>OR</td>\n",
       "      <td>Landscape Architectural Services</td>\n",
       "      <td>Bachelor's</td>\n",
       "      <td>1</td>\n",
       "    </tr>\n",
       "    <tr>\n",
       "      <th>119770</th>\n",
       "      <td>INDIA</td>\n",
       "      <td>CA</td>\n",
       "      <td>Semiconductor and Other Electronic Component M...</td>\n",
       "      <td>Master's</td>\n",
       "      <td>1</td>\n",
       "    </tr>\n",
       "  </tbody>\n",
       "</table>\n",
       "<p>77186 rows × 5 columns</p>\n",
       "</div>"
      ],
      "text/plain": [
       "       COUNTRY_OF_CITIZENSHIP EMPLOYER_STATE  \\\n",
       "12                      INDIA             LA   \n",
       "14                      INDIA             NY   \n",
       "16                      INDIA             CA   \n",
       "18                      CHINA             IN   \n",
       "19                      INDIA             CA   \n",
       "20                      INDIA             CA   \n",
       "22                      CHINA             PA   \n",
       "24                      INDIA             WI   \n",
       "26                      INDIA             IN   \n",
       "30                      INDIA             NC   \n",
       "31                      INDIA             CA   \n",
       "32                      INDIA             TN   \n",
       "33                      INDIA             TN   \n",
       "36                SOUTH KOREA             CA   \n",
       "37                   MALAYSIA             CA   \n",
       "39                      INDIA             NJ   \n",
       "40                      INDIA             NJ   \n",
       "42                      INDIA             MA   \n",
       "43                      INDIA             NJ   \n",
       "44                      INDIA             CA   \n",
       "46             UNITED KINGDOM             TX   \n",
       "47                  AUSTRALIA             FL   \n",
       "49                      CHINA             IA   \n",
       "50                      INDIA             NY   \n",
       "51                      CHINA             FL   \n",
       "52                      INDIA             IL   \n",
       "54                      INDIA             CA   \n",
       "55                      INDIA             VA   \n",
       "56                      INDIA             CA   \n",
       "57                     CANADA             CA   \n",
       "...                       ...            ...   \n",
       "119698                  INDIA             NY   \n",
       "119699                  INDIA             NY   \n",
       "119700                  CHINA             TX   \n",
       "119703                  CHINA             MI   \n",
       "119705                  INDIA             NJ   \n",
       "119711                  INDIA             GA   \n",
       "119713                  INDIA             SD   \n",
       "119717                  INDIA             VA   \n",
       "119718                  INDIA             VA   \n",
       "119719               COLOMBIA             CA   \n",
       "119722                  INDIA             NC   \n",
       "119725                  INDIA             MD   \n",
       "119733                 BELIZE             FL   \n",
       "119734                  INDIA             MA   \n",
       "119735                  INDIA             TX   \n",
       "119739                  INDIA             CA   \n",
       "119746                  INDIA             MI   \n",
       "119747                 BRAZIL             FL   \n",
       "119748               COLOMBIA             NC   \n",
       "119749               COLOMBIA             NC   \n",
       "119750                 TURKEY             OH   \n",
       "119752                  CHINA             CA   \n",
       "119754                  INDIA             IL   \n",
       "119755                  INDIA             NJ   \n",
       "119756                  INDIA             CA   \n",
       "119758                  INDIA             CA   \n",
       "119759                 TURKEY             TX   \n",
       "119763            SOUTH KOREA             OR   \n",
       "119767                  JAPAN             OR   \n",
       "119770                  INDIA             CA   \n",
       "\n",
       "                                           NAICS_US_TITLE  \\\n",
       "12       Colleges, Universities, and Professional Schools   \n",
       "14      Administrative Management and General Manageme...   \n",
       "16                        Other Computer Related Services   \n",
       "18       Colleges, Universities, and Professional Schools   \n",
       "19                        Other Computer Related Services   \n",
       "20      Semiconductor and Other Electronic Component M...   \n",
       "22              Pharmaceutical and Medicine Manufacturing   \n",
       "24         Data Processing, Hosting, and Related Services   \n",
       "26                        Other Computer Related Services   \n",
       "30                        Other Computer Related Services   \n",
       "31                   Custom Computer Programming Services   \n",
       "32                              Other Accounting Services   \n",
       "33                              Other Accounting Services   \n",
       "36                      Cut and Sew Apparel Manufacturing   \n",
       "37           Computer Systems Design and Related Services   \n",
       "39                   Custom Computer Programming Services   \n",
       "40                   Custom Computer Programming Services   \n",
       "42           Direct Health and Medical Insurance Carriers   \n",
       "43                   Other Management Consulting Services   \n",
       "44      Semiconductor and Other Electronic Component M...   \n",
       "46                   Custom Computer Programming Services   \n",
       "47                       Elementary and Secondary Schools   \n",
       "49       Colleges, Universities, and Professional Schools   \n",
       "50                         All Other Information Services   \n",
       "51                        Fiber Optic Cable Manufacturing   \n",
       "52              All Other Financial Investment Activities   \n",
       "54                   Custom Computer Programming Services   \n",
       "55                                    Credit Card Issuing   \n",
       "56                   Custom Computer Programming Services   \n",
       "57                                     Offices of Lawyers   \n",
       "...                                                   ...   \n",
       "119698               Custom Computer Programming Services   \n",
       "119699               Custom Computer Programming Services   \n",
       "119700  Process, Physical Distribution, and Logistics ...   \n",
       "119703               Custom Computer Programming Services   \n",
       "119705               Custom Computer Programming Services   \n",
       "119711               Custom Computer Programming Services   \n",
       "119713                Monetary Authorities - Central Bank   \n",
       "119717               Custom Computer Programming Services   \n",
       "119718               Custom Computer Programming Services   \n",
       "119719                               Engineering Services   \n",
       "119722       Computer Systems Design and Related Services   \n",
       "119725               Custom Computer Programming Services   \n",
       "119733  Electric Power Generation, Transmission and Di...   \n",
       "119734               Custom Computer Programming Services   \n",
       "119735          Research and Development in Biotechnology   \n",
       "119739  Financial Transactions Processing, Reserve, an...   \n",
       "119746   Colleges, Universities, and Professional Schools   \n",
       "119747                                Dental Laboratories   \n",
       "119748                   Elementary and Secondary Schools   \n",
       "119749                   Elementary and Secondary Schools   \n",
       "119750                   Elementary and Secondary Schools   \n",
       "119752                   Computer Systems Design Services   \n",
       "119754                    Other Computer Related Services   \n",
       "119755  Foundation, Structure, and Building Exterior C...   \n",
       "119756                                Software Publishers   \n",
       "119758               Custom Computer Programming Services   \n",
       "119759                   Elementary and Secondary Schools   \n",
       "119763   Colleges, Universities, and Professional Schools   \n",
       "119767                   Landscape Architectural Services   \n",
       "119770  Semiconductor and Other Electronic Component M...   \n",
       "\n",
       "       FOREIGN_WORKER_INFO_EDUCATION  Response  \n",
       "12                          Master's         1  \n",
       "14                        Bachelor's         1  \n",
       "16                        Bachelor's         1  \n",
       "18                         Doctorate         1  \n",
       "19                        Bachelor's         1  \n",
       "20                          Master's         1  \n",
       "22                          Master's         1  \n",
       "24                          Master's         1  \n",
       "26                        Bachelor's         1  \n",
       "30                          Master's         1  \n",
       "31                        Bachelor's         1  \n",
       "32                        Bachelor's         1  \n",
       "33                        Bachelor's         1  \n",
       "36                        Bachelor's         1  \n",
       "37                          Master's         1  \n",
       "39                        Bachelor's         1  \n",
       "40                          Master's         1  \n",
       "42                        Bachelor's         1  \n",
       "43                             Other         1  \n",
       "44                          Master's         1  \n",
       "46                              None         1  \n",
       "47                        Bachelor's         1  \n",
       "49                         Doctorate         1  \n",
       "50                          Master's         1  \n",
       "51                          Master's         1  \n",
       "52                          Master's         1  \n",
       "54                        Bachelor's         1  \n",
       "55                        Bachelor's         1  \n",
       "56                          Master's         1  \n",
       "57                             Other         1  \n",
       "...                              ...       ...  \n",
       "119698                      Master's         1  \n",
       "119699                      Master's         1  \n",
       "119700                      Master's         1  \n",
       "119703                      Master's         1  \n",
       "119705                      Master's         1  \n",
       "119711                    Bachelor's         1  \n",
       "119713                      Master's         1  \n",
       "119717                      Master's         0  \n",
       "119718                      Master's         0  \n",
       "119719                    Bachelor's         1  \n",
       "119722                      Master's         1  \n",
       "119725                      Master's         1  \n",
       "119733                    Bachelor's         1  \n",
       "119734                      Master's         1  \n",
       "119735                    Bachelor's         1  \n",
       "119739                    Bachelor's         1  \n",
       "119746                     Doctorate         1  \n",
       "119747                   High School         1  \n",
       "119748                    Bachelor's         1  \n",
       "119749                    Bachelor's         1  \n",
       "119750                    Bachelor's         1  \n",
       "119752                      Master's         1  \n",
       "119754                    Bachelor's         1  \n",
       "119755                      Master's         1  \n",
       "119756                    Bachelor's         1  \n",
       "119758                    Bachelor's         1  \n",
       "119759                    Bachelor's         1  \n",
       "119763                      Master's         1  \n",
       "119767                    Bachelor's         1  \n",
       "119770                      Master's         1  \n",
       "\n",
       "[77186 rows x 5 columns]"
      ]
     },
     "execution_count": 235,
     "metadata": {},
     "output_type": "execute_result"
    }
   ],
   "source": [
    "reg_clean18"
   ]
  },
  {
   "cell_type": "code",
   "execution_count": 236,
   "metadata": {},
   "outputs": [],
   "source": [
    "cat_vars=['COUNTRY_OF_CITIZENSHIP','EMPLOYER_STATE','NAICS_US_TITLE','FOREIGN_WORKER_INFO_EDUCATION']\n",
    "for var in cat_vars:\n",
    "    cat_list='var'+'_'+var\n",
    "    cat_list = pd.get_dummies(reg_clean18[var], prefix=var)\n",
    "    reg_clean18_1=reg_clean18.join(cat_list)\n",
    "    reg_clean18=reg_clean18_1\n",
    "    \n",
    "\n",
    "cat_vars=['COUNTRY_OF_CITIZENSHIP','EMPLOYER_STATE','NAICS_US_TITLE','FOREIGN_WORKER_INFO_EDUCATION']\n",
    "data_vars=reg_clean18.columns.values.tolist()\n",
    "to_keep=[i for i in data_vars if i not in cat_vars]"
   ]
  },
  {
   "cell_type": "code",
   "execution_count": 237,
   "metadata": {},
   "outputs": [
    {
     "data": {
      "text/plain": [
       "array(['Response', 'COUNTRY_OF_CITIZENSHIP_AFGHANISTAN',\n",
       "       'COUNTRY_OF_CITIZENSHIP_ALBANIA', ...,\n",
       "       \"FOREIGN_WORKER_INFO_EDUCATION_Master's\",\n",
       "       'FOREIGN_WORKER_INFO_EDUCATION_None',\n",
       "       'FOREIGN_WORKER_INFO_EDUCATION_Other'], dtype=object)"
      ]
     },
     "execution_count": 237,
     "metadata": {},
     "output_type": "execute_result"
    }
   ],
   "source": [
    "reg_clean18_final=reg_clean18[to_keep]\n",
    "reg_clean18_final.columns.values"
   ]
  },
  {
   "cell_type": "code",
   "execution_count": 238,
   "metadata": {},
   "outputs": [],
   "source": [
    "X = reg_clean18_final.loc[:, clean18_final.columns != 'Response']\n",
    "y = reg_clean18_final.loc[:, clean18_final.columns == 'Response']"
   ]
  },
  {
   "cell_type": "code",
   "execution_count": 20,
   "metadata": {},
   "outputs": [
    {
     "ename": "NameError",
     "evalue": "name 'SMOTE' is not defined",
     "output_type": "error",
     "traceback": [
      "\u001b[1;31m---------------------------------------------------------------------------\u001b[0m",
      "\u001b[1;31mNameError\u001b[0m                                 Traceback (most recent call last)",
      "\u001b[1;32m<ipython-input-20-bc5c02c12945>\u001b[0m in \u001b[0;36m<module>\u001b[1;34m()\u001b[0m\n\u001b[1;32m----> 1\u001b[1;33m \u001b[0mos\u001b[0m \u001b[1;33m=\u001b[0m \u001b[0mSMOTE\u001b[0m\u001b[1;33m(\u001b[0m\u001b[0mrandom_state\u001b[0m\u001b[1;33m=\u001b[0m\u001b[1;36m0\u001b[0m\u001b[1;33m)\u001b[0m\u001b[1;33m\u001b[0m\u001b[0m\n\u001b[0m\u001b[0;32m      2\u001b[0m \u001b[0mX_train\u001b[0m\u001b[1;33m,\u001b[0m \u001b[0mX_test\u001b[0m\u001b[1;33m,\u001b[0m \u001b[0my_train\u001b[0m\u001b[1;33m,\u001b[0m \u001b[0my_test\u001b[0m \u001b[1;33m=\u001b[0m \u001b[0mtrain_test_split\u001b[0m\u001b[1;33m(\u001b[0m\u001b[0mX\u001b[0m\u001b[1;33m,\u001b[0m \u001b[0my\u001b[0m\u001b[1;33m,\u001b[0m \u001b[0mtest_size\u001b[0m\u001b[1;33m=\u001b[0m\u001b[1;36m0.3\u001b[0m\u001b[1;33m,\u001b[0m \u001b[0mrandom_state\u001b[0m\u001b[1;33m=\u001b[0m\u001b[1;36m0\u001b[0m\u001b[1;33m)\u001b[0m\u001b[1;33m\u001b[0m\u001b[0m\n\u001b[0;32m      3\u001b[0m \u001b[0mcolumns\u001b[0m \u001b[1;33m=\u001b[0m \u001b[0mX_train\u001b[0m\u001b[1;33m.\u001b[0m\u001b[0mcolumns\u001b[0m\u001b[1;33m\u001b[0m\u001b[0m\n",
      "\u001b[1;31mNameError\u001b[0m: name 'SMOTE' is not defined"
     ]
    }
   ],
   "source": [
    "os = SMOTE(random_state=0)\n",
    "X_train, X_test, y_train, y_test = train_test_split(X, y, test_size=0.3, random_state=0)\n",
    "columns = X_train.columns"
   ]
  },
  {
   "cell_type": "code",
   "execution_count": 19,
   "metadata": {},
   "outputs": [
    {
     "ename": "NameError",
     "evalue": "name 'os' is not defined",
     "output_type": "error",
     "traceback": [
      "\u001b[1;31m---------------------------------------------------------------------------\u001b[0m",
      "\u001b[1;31mNameError\u001b[0m                                 Traceback (most recent call last)",
      "\u001b[1;32m<ipython-input-19-d6b0e61038ba>\u001b[0m in \u001b[0;36m<module>\u001b[1;34m()\u001b[0m\n\u001b[1;32m----> 1\u001b[1;33m \u001b[0mos_data_X\u001b[0m\u001b[1;33m,\u001b[0m\u001b[0mos_data_y\u001b[0m\u001b[1;33m=\u001b[0m\u001b[0mos\u001b[0m\u001b[1;33m.\u001b[0m\u001b[0mfit_sample\u001b[0m\u001b[1;33m(\u001b[0m\u001b[0mX_train\u001b[0m\u001b[1;33m,\u001b[0m \u001b[0my_train\u001b[0m\u001b[1;33m)\u001b[0m\u001b[1;33m\u001b[0m\u001b[0m\n\u001b[0m\u001b[0;32m      2\u001b[0m \u001b[0mos_data_X\u001b[0m \u001b[1;33m=\u001b[0m \u001b[0mpd\u001b[0m\u001b[1;33m.\u001b[0m\u001b[0mDataFrame\u001b[0m\u001b[1;33m(\u001b[0m\u001b[0mdata\u001b[0m\u001b[1;33m=\u001b[0m\u001b[0mos_data_X\u001b[0m\u001b[1;33m,\u001b[0m\u001b[0mcolumns\u001b[0m\u001b[1;33m=\u001b[0m\u001b[0mcolumns\u001b[0m \u001b[1;33m)\u001b[0m\u001b[1;33m\u001b[0m\u001b[0m\n\u001b[0;32m      3\u001b[0m \u001b[0mos_data_y\u001b[0m\u001b[1;33m=\u001b[0m \u001b[0mpd\u001b[0m\u001b[1;33m.\u001b[0m\u001b[0mDataFrame\u001b[0m\u001b[1;33m(\u001b[0m\u001b[0mdata\u001b[0m\u001b[1;33m=\u001b[0m\u001b[0mos_data_y\u001b[0m\u001b[1;33m,\u001b[0m\u001b[0mcolumns\u001b[0m\u001b[1;33m=\u001b[0m\u001b[1;33m[\u001b[0m\u001b[1;34m'Response'\u001b[0m\u001b[1;33m]\u001b[0m\u001b[1;33m)\u001b[0m\u001b[1;33m\u001b[0m\u001b[0m\n",
      "\u001b[1;31mNameError\u001b[0m: name 'os' is not defined"
     ]
    }
   ],
   "source": [
    "os_data_X,os_data_y=os.fit_sample(X_train, y_train)\n",
    "os_data_X = pd.DataFrame(data=os_data_X,columns=columns )\n",
    "os_data_y= pd.DataFrame(data=os_data_y,columns=['Response'])"
   ]
  },
  {
   "cell_type": "code",
   "execution_count": 261,
   "metadata": {},
   "outputs": [
    {
     "name": "stdout",
     "output_type": "stream",
     "text": [
      "[False False False False False False False False  True False False False\n",
      " False  True False False False False False False False False False False\n",
      "  True False False False False False  True False False  True  True False\n",
      " False False False False False False False False False False  True False\n",
      " False False False False  True False False False  True False False False\n",
      " False False False False False False False  True False  True False  True\n",
      "  True  True False False  True False False False False False False False\n",
      " False False False False False False False False False False False False\n",
      " False False False  True False False False False False False False False\n",
      "  True False False False  True False False  True False False False False\n",
      "  True]\n",
      "[ 98  97  41  87  77  74   5  40   1  42  56  38  64   1  54  18  15  66\n",
      "  69  71  75  33  76  85   1  13  59  43  60  29   1  84   6   1   1  25\n",
      " 102  39  88  47  30  72  36  78  27  14   1  26  70  31  89  35   1  90\n",
      "  93  53   1  10   7  37  21  63  68  22  12  23  55   1   3   1  58   1\n",
      "   1   1  67  11   1   9  28  17  65  73  57  50   8  20  91  45  96  61\n",
      "  52  81  86   2  99  92  80  95  46   1  34 101  32  79  94  24 100  82\n",
      "   1  16  19  48   1  44  83   1  51  49  62   4   1]\n"
     ]
    },
    {
     "data": {
      "text/plain": [
       "LogisticRegression(C=1.0, class_weight=None, dual=False, fit_intercept=True,\n",
       "          intercept_scaling=1, max_iter=100, multi_class='warn',\n",
       "          n_jobs=None, penalty='l2', random_state=None, solver='lbfgs',\n",
       "          tol=0.0001, verbose=0, warm_start=False)"
      ]
     },
     "execution_count": 261,
     "metadata": {},
     "output_type": "execute_result"
    }
   ],
   "source": [
    "#Recursive Feature Elimiation\n",
    "reg_clean18_final_vars=reg_clean18_final.columns.values.tolist()\n",
    "y=['Response']\n",
    "X=[i for i in reg_clean18_final_vars if i not in y]\n",
    "\n",
    "from sklearn.feature_selection import RFE\n",
    "from sklearn.linear_model import LogisticRegression\n",
    "logreg = LogisticRegression()\n",
    "\n",
    "rfe = RFE(logreg, 20)\n",
    "rfe = rfe.fit(os_data_X, os_data_y.values.ravel())\n",
    "print(rfe.support_)\n",
    "print(rfe.ranking_)\n",
    "\n",
    "import warnings\n",
    "warnings.filterwarnings(\"ignore\", category=FutureWarning)\n",
    "LogisticRegression(solver='lbfgs')"
   ]
  },
  {
   "cell_type": "code",
   "execution_count": 279,
   "metadata": {},
   "outputs": [
    {
     "name": "stdout",
     "output_type": "stream",
     "text": [
      "Warning: Maximum number of iterations has been exceeded.\n",
      "         Current function value: inf\n",
      "         Iterations: 35\n",
      "                                                Results: Logit\n",
      "===============================================================================================================\n",
      "Model:                               Logit                            No. Iterations:                   35.0000\n",
      "Dependent Variable:                  Response                         Pseudo R-squared:                 -inf   \n",
      "Date:                                2018-12-21 03:42                 AIC:                              inf    \n",
      "No. Observations:                    107938                           BIC:                              inf    \n",
      "Df Model:                            11                               Log-Likelihood:                   -inf   \n",
      "Df Residuals:                        107926                           LL-Null:                          -74817.\n",
      "Converged:                           0.0000                           Scale:                            1.0000 \n",
      "---------------------------------------------------------------------------------------------------------------\n",
      "                                   Coef.       Std.Err.        z    P>|z|        [0.025             0.975]     \n",
      "---------------------------------------------------------------------------------------------------------------\n",
      "COUNTRY_OF_CITIZENSHIP_CHINA      -36.1729      873832.2277 -0.0000 1.0000      -1712715.8679      1712643.5220\n",
      "COUNTRY_OF_CITIZENSHIP_HONG KONG  -19.9087        2976.0385 -0.0067 0.9947         -5852.8370         5813.0196\n",
      "COUNTRY_OF_CITIZENSHIP_JAPAN      -17.1352         385.5731 -0.0444 0.9646          -772.8446          738.5742\n",
      "COUNTRY_OF_CITIZENSHIP_CHILE      -53.9814 62120742163.8120 -0.0000 1.0000 -121754417387.9517 121754417279.9890\n",
      "COUNTRY_OF_CITIZENSHIP_FRANCE     -19.8604        1221.0879 -0.0163 0.9870         -2413.1488         2373.4279\n",
      "COUNTRY_OF_CITIZENSHIP_ARGENTINA  -21.0983        4264.7094 -0.0049 0.9961         -8379.7752         8337.5786\n",
      "COUNTRY_OF_CITIZENSHIP_BRAZIL      -6.6677           1.7416 -3.8286 0.0001           -10.0811           -3.2543\n",
      "COUNTRY_OF_CITIZENSHIP_GERMANY    -17.9148         592.0912 -0.0303 0.9759         -1178.3922         1142.5625\n",
      "COUNTRY_OF_CITIZENSHIP_ISRAEL     -16.9215         422.6695 -0.0400 0.9681          -845.3385          811.4955\n",
      "COUNTRY_OF_CITIZENSHIP_INDIA      -22.9711         511.8161 -0.0449 0.9642         -1026.1123          980.1701\n",
      "COUNTRY_OF_CITIZENSHIP_AUSTRALIA  -20.6709        1465.2519 -0.0141 0.9887         -2892.5118         2851.1700\n",
      "COUNTRY_OF_CITIZENSHIP_BANGLADESH -10.2983          14.1622 -0.7272 0.4671           -38.0556           17.4590\n",
      "===============================================================================================================\n",
      "\n"
     ]
    },
    {
     "name": "stderr",
     "output_type": "stream",
     "text": [
      "/Users/clarissepinel/anaconda/lib/python3.6/site-packages/statsmodels/discrete/discrete_model.py:1214: RuntimeWarning: overflow encountered in exp\n",
      "  return 1/(1+np.exp(-X))\n",
      "/Users/clarissepinel/anaconda/lib/python3.6/site-packages/statsmodels/discrete/discrete_model.py:1264: RuntimeWarning: divide by zero encountered in log\n",
      "  return np.sum(np.log(self.cdf(q*np.dot(X,params))))\n",
      "/Users/clarissepinel/anaconda/lib/python3.6/site-packages/statsmodels/base/model.py:496: ConvergenceWarning: Maximum Likelihood optimization failed to converge. Check mle_retvals\n",
      "  \"Check mle_retvals\", ConvergenceWarning)\n"
     ]
    }
   ],
   "source": [
    "cols=['COUNTRY_OF_CITIZENSHIP_CHINA','COUNTRY_OF_CITIZENSHIP_HONG KONG','COUNTRY_OF_CITIZENSHIP_JAPAN','COUNTRY_OF_CITIZENSHIP_CHILE','COUNTRY_OF_CITIZENSHIP_FRANCE','COUNTRY_OF_CITIZENSHIP_ARGENTINA','COUNTRY_OF_CITIZENSHIP_BRAZIL','COUNTRY_OF_CITIZENSHIP_GERMANY','COUNTRY_OF_CITIZENSHIP_ISRAEL','COUNTRY_OF_CITIZENSHIP_INDIA','COUNTRY_OF_CITIZENSHIP_AUSTRALIA','COUNTRY_OF_CITIZENSHIP_BANGLADESH']\n",
    "X=os_data_X[cols]\n",
    "y=os_data_y['Response']\n",
    "\n",
    "import statsmodels.api as sm\n",
    "logit_model=sm.Logit(y,X)\n",
    "result=logit_model.fit()\n",
    "print(result.summary2())"
   ]
  },
  {
   "cell_type": "markdown",
   "metadata": {},
   "source": [
    "## Objective 4\n",
    "** Prediction modelling for whether an application will be accepted or rejected **"
   ]
  },
  {
   "cell_type": "code",
   "execution_count": 280,
   "metadata": {},
   "outputs": [
    {
     "data": {
      "text/plain": [
       "LogisticRegression(C=1.0, class_weight=None, dual=False, fit_intercept=True,\n",
       "          intercept_scaling=1, max_iter=100, multi_class='warn',\n",
       "          n_jobs=None, penalty='l2', random_state=None, solver='warn',\n",
       "          tol=0.0001, verbose=0, warm_start=False)"
      ]
     },
     "execution_count": 280,
     "metadata": {},
     "output_type": "execute_result"
    }
   ],
   "source": [
    "from sklearn.linear_model import LogisticRegression\n",
    "from sklearn import metrics\n",
    "X_train, X_test, y_train, y_test = train_test_split(X, y, test_size=0.3, random_state=0)\n",
    "logreg = LogisticRegression()\n",
    "logreg.fit(X_train, y_train)"
   ]
  },
  {
   "cell_type": "code",
   "execution_count": 281,
   "metadata": {},
   "outputs": [
    {
     "name": "stdout",
     "output_type": "stream",
     "text": [
      "Accuracy of logistic regression classifier on test set: 0.92\n"
     ]
    }
   ],
   "source": [
    "y_pred = logreg.predict(X_test)\n",
    "print('Accuracy of logistic regression classifier on test set: {:.2f}'.format(logreg.score(X_test, y_test)))"
   ]
  },
  {
   "cell_type": "code",
   "execution_count": 282,
   "metadata": {},
   "outputs": [
    {
     "name": "stdout",
     "output_type": "stream",
     "text": [
      "[[13347  2734]\n",
      " [    0 16301]]\n"
     ]
    }
   ],
   "source": [
    "from sklearn.metrics import confusion_matrix\n",
    "confusion_matrix = confusion_matrix(y_test, y_pred)\n",
    "print(confusion_matrix)"
   ]
  },
  {
   "cell_type": "markdown",
   "metadata": {},
   "source": [
    "There were 13347+16301=19648 correct predictions and 2734 incorrect predictions. "
   ]
  },
  {
   "cell_type": "code",
   "execution_count": 283,
   "metadata": {},
   "outputs": [
    {
     "name": "stdout",
     "output_type": "stream",
     "text": [
      "              precision    recall  f1-score   support\n",
      "\n",
      "           0       1.00      0.83      0.91     16081\n",
      "           1       0.86      1.00      0.92     16301\n",
      "\n",
      "   micro avg       0.92      0.92      0.92     32382\n",
      "   macro avg       0.93      0.91      0.91     32382\n",
      "weighted avg       0.93      0.92      0.91     32382\n",
      "\n"
     ]
    }
   ],
   "source": [
    "from sklearn.metrics import classification_report\n",
    "print(classification_report(y_test, y_pred))"
   ]
  }
 ],
 "metadata": {
  "kernelspec": {
   "display_name": "Python 3",
   "language": "python",
   "name": "python3"
  },
  "language_info": {
   "codemirror_mode": {
    "name": "ipython",
    "version": 3
   },
   "file_extension": ".py",
   "mimetype": "text/x-python",
   "name": "python",
   "nbconvert_exporter": "python",
   "pygments_lexer": "ipython3",
   "version": "3.6.5"
  }
 },
 "nbformat": 4,
 "nbformat_minor": 2
}
